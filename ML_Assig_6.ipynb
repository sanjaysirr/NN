{
  "nbformat": 4,
  "nbformat_minor": 0,
  "metadata": {
    "colab": {
      "provenance": []
    },
    "kernelspec": {
      "name": "python3",
      "display_name": "Python 3"
    },
    "language_info": {
      "name": "python"
    }
  },
  "cells": [
    {
      "cell_type": "code",
      "execution_count": null,
      "metadata": {
        "id": "2S2Vngm3sL_S"
      },
      "outputs": [],
      "source": [
        "#neural network\n",
        "import numpy as np\n",
        "x=np.array([[1,0,1,0],[1,0,1,1],[0,1,0,1]])\n",
        "y=np.array([[1],[1],[0]])\n",
        "def sigmoid(x):\n",
        "  return 1/(1+np.exp(-x))\n",
        "def derivatives_sigmoid(x):\n",
        "  return x*(1-x)"
      ]
    },
    {
      "cell_type": "code",
      "source": [
        "epox=5000\n",
        "lr=0.1\n",
        "inputlayer_neurons=x.shape[1]\n",
        "hiddenlayer_neurons=3\n",
        "output_neurons=1\n",
        "wh=np.random.uniform(size=(inputlayer_neurons,hiddenlayer_neurons))\n",
        "bh=np.random.uniform(size=(1,hiddenlayer_neurons))\n",
        "wout=np.random.uniform(size=(hiddenlayer_neurons,output_neurons))\n",
        "bout=np.random.uniform(size=(1,output_neurons))"
      ],
      "metadata": {
        "id": "MHGzklwQsdgU"
      },
      "execution_count": null,
      "outputs": []
    },
    {
      "cell_type": "code",
      "source": [
        "hidden_layer_input1=np.dot(x,wh)\n",
        "hidden_layer_input=hidden_layer_input1+bh\n",
        "hiddenlayer_activations=sigmoid(hidden_layer_input)\n",
        "output_layer_input1=np.dot(hiddenlayer_activations,wout)\n",
        "output_layer_input=output_layer_input1+bout\n",
        "output=sigmoid(output_layer_input)\n",
        "\n"
      ],
      "metadata": {
        "id": "GSpBJVaFt7q7"
      },
      "execution_count": null,
      "outputs": []
    },
    {
      "cell_type": "code",
      "source": [
        "from traitlets.config.application import T\n",
        "E=y-output\n",
        "slope_output_layer=derivatives_sigmoid(output)\n",
        "slope_hidden_layer=derivatives_sigmoid(hiddenlayer_activations)\n",
        "d_output=E*slope_output_layer\n",
        "Error_at_hidden_layer=d_output.dot(wout.T)\n",
        "d_hiddenlayer=Error_at_hidden_layer*slope_hidden_layer\n",
        "wout+=hiddenlayer_activations.T.dot(d_output) *lr\n",
        "bout+=np.sum(d_output,axis=0,keepdims=True) *lr\n",
        "wh+=x.T.dot(d_hiddenlayer) *lr\n",
        "bh+=np.sum(d_hiddenlayer,axis=0,keepdims=True) *lr\n"
      ],
      "metadata": {
        "id": "Dsr6m6pyvpKy"
      },
      "execution_count": null,
      "outputs": []
    },
    {
      "cell_type": "code",
      "source": [
        "print(output)"
      ],
      "metadata": {
        "colab": {
          "base_uri": "https://localhost:8080/"
        },
        "id": "U1d1oiyzxCFI",
        "outputId": "4f33ffe7-edeb-49cf-e3f8-51394d2433b4"
      },
      "execution_count": null,
      "outputs": [
        {
          "output_type": "stream",
          "name": "stdout",
          "text": [
            "[[0.80863774]\n",
            " [0.81620644]\n",
            " [0.80209826]]\n"
          ]
        }
      ]
    }
  ]
}